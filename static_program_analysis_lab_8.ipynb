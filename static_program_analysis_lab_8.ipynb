{
 "cells": [
  {
   "cell_type": "markdown",
   "id": "237d9ff96a719dc3",
   "metadata": {
    "collapsed": false
   },
   "source": [
    "# &#128214; Lab 8: Static Taint Analysis"
   ]
  },
  {
   "cell_type": "markdown",
   "id": "9c5f6efc770f8ae6",
   "metadata": {
    "collapsed": false
   },
   "source": [
    "## &#127919; Objective\n",
    "\n",
    "Explore static taint analysis, understand the concepts of sources, sinks, and taint propagation, and apply these concepts to identify potential security leaks in a program.\n",
    "\n",
    "## &#128214; Background\n",
    "\n",
    "Static taint analysis is a technique used to track the flow of sensitive information through a program. It involves marking certain inputs as \"tainted\" and then analyzing the code to see where this tainted data goes. The goal is to ensure tainted data does not reach leaking points, known as \"sinks\".\n",
    "\n",
    "### Key Concepts\n",
    "\n",
    "- **Source:** Entry point where sensitive data enters the program (e.g., user input or sensitive data).\n",
    "- **Sink:** A point in the program where tainted data flows (usually out of the software space, e.g., through the network).\n",
    "- **Taint Propagation:** Process of tracing the flow of tainted data through the program.\n",
    "\n",
    "In general, taint analysis is the process of following certain data from program points to other program points.\n",
    "In practice it is used to detect vulnerabilities (e.g., SQL injection) or sensitive data leaks.\n",
    "\n",
    "## &#10145; Tasks\n",
    "\n",
    "1. **Understanding Taint Analysis:**\n",
    "   - Familiarize yourself with the concept of taint analysis and how it is used in data flow analysis.\n",
    "\n",
    "2. **Implementing Taint Analysis:**\n",
    "   - Use the `ControlFlowGraph` class to support the computation of the taint analysis.\n",
    "   - Implement the `get_gen` and `get_kill` functions from the previous abstract `DataFlowAnalysis` class.\n",
    "   - Verify your implementation with several examples."
   ]
  },
  {
   "cell_type": "markdown",
   "id": "522bf8c7a2e85e5c",
   "metadata": {
    "collapsed": false
   },
   "source": [
    "### Import the necessary library\n",
    "\n",
    "&#128161; *In the following cell, we will import the library needed for this exercise:*\n",
    "- `ast`: a module of the python standard library to transform Python code in its AST representation\n",
    "- `abc`: a module to implement abstract methods in Python"
   ]
  },
  {
   "cell_type": "code",
   "execution_count": null,
   "id": "bd8e84548ffd7b01",
   "metadata": {
    "collapsed": false
   },
   "outputs": [],
   "source": [
    "import ast\n",
    "from abc import ABC, abstractmethod"
   ]
  },
  {
   "cell_type": "markdown",
   "id": "d951bc71e1113995",
   "metadata": {
    "collapsed": false
   },
   "source": [
    "Python code\n",
    "\n",
    "&#128161; The following cell contains a string that represents the Python code that will be analyzed through this exercise"
   ]
  },
  {
   "cell_type": "code",
   "execution_count": null,
   "id": "4e1c6437960813d7",
   "metadata": {
    "collapsed": false
   },
   "outputs": [],
   "source": [
    "code = \"\"\"\n",
    "def get_sensitive_data():\n",
    "    return \"sensitive\"\n",
    "\n",
    "def leak_sensitive_data(data):\n",
    "    print(data)\n",
    "\n",
    "a = get_sensitive_data()\n",
    "b = a\n",
    "a = 1\n",
    "leak_sensitive_data(b)\n",
    "\"\"\""
   ]
  },
  {
   "cell_type": "markdown",
   "id": "ae9dcd792b443765",
   "metadata": {
    "collapsed": false
   },
   "source": [
    "### Utility Control Flow Graph class\n",
    "\n",
    "&#128161; The following cell contains a utility class to build a Control Glow Graph. \n",
    "You have to use this class to build the control flow graph."
   ]
  },
  {
   "cell_type": "code",
   "execution_count": null,
   "id": "2cd29299ce52ea0c",
   "metadata": {
    "collapsed": false
   },
   "outputs": [],
   "source": [
    "class ControlFlowGraph:\n",
    "    \"\"\"\n",
    "    A class representing a Control Flow Graph (CFG).\n",
    "\n",
    "    Attributes:\n",
    "    nodes: A list where each element is a statement.\n",
    "    edges: A list of tuples representing edges between nodes, where each tuple contains a pair of nodes.\n",
    "\n",
    "    Methods:\n",
    "    add_node:\n",
    "        Adds a new node with the given statement to the graph, returning the new node.\n",
    "    add_edge:\n",
    "        Adds an edge between the specified node indices to the graph.\n",
    "    visualize:\n",
    "        Prints a visualization of the graph to the console.\n",
    "    to_dot:\n",
    "        Returns a DOT-format string representing the graph.\n",
    "    \"\"\"\n",
    "\n",
    "    def __init__(self):\n",
    "        \"\"\"\n",
    "        Initializes a new instance of the ControlFlowGraph class, with empty nodes and edges.\n",
    "        \"\"\"\n",
    "        self.nodes = []\n",
    "        self.edges = []\n",
    "\n",
    "    def add_node(self, statement):\n",
    "        \"\"\"\n",
    "        Adds a new node with the given statement to the graph.\n",
    "\n",
    "        Parameters:\n",
    "        statement: The statement associated with the new node.\n",
    "\n",
    "        Returns:\n",
    "        The node\n",
    "        \"\"\"\n",
    "        self.nodes.append(statement)\n",
    "        return statement\n",
    "\n",
    "    def add_edge(self, node1, node2):\n",
    "        \"\"\"\n",
    "        Adds an edge between the specified nodes to the graph.\n",
    "\n",
    "        Parameters:\n",
    "        node1: The source node.\n",
    "        node2: The target node.\n",
    "        \"\"\"\n",
    "        if (node1, node2) not in self.edges:\n",
    "            self.edges.append((node1, node2))\n",
    "\n",
    "    def visualize(self):\n",
    "        \"\"\"\n",
    "        Prints a visualization of the graph to the console.\n",
    "        Each edge is printed as a line in the format 'source -> target'.\n",
    "        \"\"\"\n",
    "        for edge in self.edges:\n",
    "            source, target = edge\n",
    "            print(f'{source} -> {target}')\n",
    "\n",
    "    def to_dot(self):\n",
    "        \"\"\"\n",
    "        Returns a DOT-format string representing the graph (for vizualization purposes).\n",
    "\n",
    "        Returns:\n",
    "        str: A string in DOT format.\n",
    "        \"\"\"\n",
    "        dot_lines = ['digraph cfg {']\n",
    "        stmt_to_index = {}\n",
    "        for index, statement in enumerate(self.nodes):\n",
    "            stmt_to_index[statement] = index\n",
    "            dot_lines.append(f'    node{index} [label=\"{statement}\"];')\n",
    "        for edge in self.edges:\n",
    "            source, target = edge\n",
    "            dot_lines.append(f'    node{stmt_to_index[source]} -> node{stmt_to_index[target]};')\n",
    "        dot_lines.append('}')\n",
    "        return '\\n'.join(dot_lines)"
   ]
  },
  {
   "cell_type": "markdown",
   "id": "afcad970655d073f",
   "metadata": {
    "collapsed": false
   },
   "source": [
    "### Function to create the CFG\n",
    "\n",
    "&#128161; In the following cell, you will use the `build_cfg` function of the previous lab."
   ]
  },
  {
   "cell_type": "code",
   "execution_count": null,
   "id": "fd110a6bad11744",
   "metadata": {
    "collapsed": false
   },
   "outputs": [],
   "source": [
    "def build_cfg(node, cfg, parent=None):\n",
    "    \"\"\"\n",
    "    Recursively builds a Control Flow Graph (CFG) from an Abstract Syntax Tree (AST) node, considering various types of statements including assignment, expression, conditional, loop, and module level statements.\n",
    "\n",
    "    Parameters:\n",
    "    node: The current node in the AST.\n",
    "    cfg: An instance of ControlFlowGraph to which nodes and edges will be added.\n",
    "    parent: A list of parent nodes from which edges to the current node will be drawn. \n",
    "    \n",
    "    Returns:\n",
    "    list: A list of current nodes which will act as parents for the next level of recursion.\n",
    "    \"\"\""
   ]
  },
  {
   "cell_type": "markdown",
   "id": "9abb028f8d70b8a2",
   "metadata": {
    "collapsed": false
   },
   "source": [
    "### Build the CFG\n",
    "\n",
    "&#128161; In the following cell, you will build the CFG as in previous labs"
   ]
  },
  {
   "cell_type": "code",
   "execution_count": null,
   "id": "17ddc2e371ddfb06",
   "metadata": {
    "collapsed": false
   },
   "outputs": [],
   "source": []
  },
  {
   "cell_type": "markdown",
   "id": "39a3e4379274fac5",
   "metadata": {
    "collapsed": false
   },
   "source": [
    "&#10067; Before implementing the Taint Analysis\n",
    "\n",
    "Explain the following:\n",
    "- What is a **data flow fact** in the case of taint analysis?\n",
    "- How would you store the data flow facts?\n",
    "- What do the `in` and `out` sets represent with the taint analysis?\n",
    "- How would you **generate** a data flow fact, in other word, what is the GEN function?\n",
    "- How would you **kill** a data flow fact, in other word, what is the KILL function?\n",
    "- How would you propagate the *taint*?"
   ]
  },
  {
   "cell_type": "markdown",
   "id": "74252e92889b5afd",
   "metadata": {
    "collapsed": false
   },
   "source": [
    "### Implement the Taint Analysis\n",
    "\n",
    "&#128161; In the following cell, you will implement the *taint analysis* using a class called `TaintAnalysis` that extends the  `DataFlowAnalysis` used in Lab 4.\n",
    "\n",
    "The `TaintAnalysis` class should take two additional sets in parameter:\n",
    "1. a `sources` set that represent the set of sources to consider (in our case just the name of functions), i.e., the ones that will generate data flow facts\n",
    "2. a `sinks` set that represent the set of sinks to consider (in our case just the name of functions), i.e., the ones that will be used to check if there is a leak in the program."
   ]
  },
  {
   "cell_type": "code",
   "execution_count": null,
   "id": "d2c3acba77061f00",
   "metadata": {
    "collapsed": false
   },
   "outputs": [],
   "source": [
    "class DataFlowAnalysis(ABC):\n",
    "    \"\"\"\n",
    "    Abstract Base Class for data flow analysis on a Control Flow Graph (CFG).\n",
    "\n",
    "    Attributes:\n",
    "        cfg: Control Flow Graph on which to perform the analysis.\n",
    "        in_sets: Dictionary to store 'in' sets for each node.\n",
    "        out_sets: Dictionary to store 'out' sets for each node.\n",
    "    \"\"\"\n",
    "\n",
    "    def __init__(self, cfg):\n",
    "        \"\"\"\n",
    "        Initialize the DataFlowAnalysis class.\n",
    "\n",
    "        Parameters:\n",
    "            cfg: Control Flow Graph on which to perform the analysis.\n",
    "        \"\"\"\n",
    "\n",
    "        self.cfg = cfg\n",
    "        self.in_sets = {node: set() for node in cfg.nodes}\n",
    "        self.out_sets = {node: set() for node in cfg.nodes}\n",
    "\n",
    "    def analyze(self):\n",
    "        \"\"\"\n",
    "        Core algorithm for data flow analysis, common to all types of analyses.\n",
    "        \n",
    "        Updates the in_sets and out_sets attributes based on the implemented get_gen and get_kill methods.\n",
    "        \"\"\"\n",
    "\n",
    "        first_id = 1\n",
    "        worklist = [self.cfg.nodes[first_id]]\n",
    "        visited = set()\n",
    "\n",
    "        while worklist:\n",
    "            node = worklist.pop(0)\n",
    "            visited.add(node)\n",
    "\n",
    "            # In[node] = Union of Out[predecessors]\n",
    "            in_set = set().union(\n",
    "                *[self.out_sets[pred] for pred, succ in self.cfg.edges if succ == node]\n",
    "            )\n",
    "            self.in_sets[node] = in_set\n",
    "\n",
    "            # Out[node] = gen U (In[node] - kill)\n",
    "            gen = self.get_gen(node)\n",
    "            kill = self.get_kill(gen, in_set, node)\n",
    "            out_set = gen.union(in_set - kill)\n",
    "            self.out_sets[node] = out_set\n",
    "\n",
    "            successors = {succ for pred, succ in self.cfg.edges if pred == node}\n",
    "            worklist.extend(succ for succ in successors if succ not in visited)\n",
    "\n",
    "    @abstractmethod\n",
    "    def get_gen(self, node):\n",
    "        \"\"\"\n",
    "        Abstract method to get the 'gen' set.\n",
    "        \n",
    "        Must be implemented by subclass.\n",
    "\n",
    "        Returns:\n",
    "            The 'gen' set.\n",
    "        \"\"\"\n",
    "        pass\n",
    "\n",
    "    @abstractmethod\n",
    "    def get_kill(self, gen, in_set, node):\n",
    "        \"\"\"\n",
    "        Abstract method to get the 'kill' set.\n",
    "        \n",
    "        Must be implemented by subclass.\n",
    "\n",
    "        Parameters:\n",
    "            gen: The 'gen' set.\n",
    "            in_set: The 'in' set for a node.\n",
    "            node: the node under analysis\n",
    "\n",
    "        Returns:\n",
    "            The 'kill' set.\n",
    "        \"\"\"\n",
    "        pass"
   ]
  },
  {
   "cell_type": "code",
   "execution_count": null,
   "id": "1123f6896deecb9c",
   "metadata": {
    "collapsed": false
   },
   "outputs": [],
   "source": [
    "class TaintAnalysis(DataFlowAnalysis, ABC):\n",
    "    \n",
    "    def __init__(self, cfg, sources, sinks):\n",
    "        super().__init__(cfg)\n",
    "        self.sources = sources\n",
    "        self.sinks = sinks"
   ]
  },
  {
   "cell_type": "markdown",
   "id": "32205367a0e79e2a",
   "metadata": {
    "collapsed": false
   },
   "source": [
    "&#128161; Before testing your code, provide the in and out sets for all statements of the code in the following cell: "
   ]
  },
  {
   "cell_type": "markdown",
   "id": "8855ad723f8bb4d7",
   "metadata": {
    "collapsed": false
   },
   "source": []
  },
  {
   "cell_type": "markdown",
   "id": "b875c37c476c1ee9",
   "metadata": {
    "collapsed": false
   },
   "source": [
    "#### Test your code\n",
    "\n",
    "&#128161; In the following cell, you will instantiate a `TaintAnalysis` object with the CFG as a parameter and a list of sources and sinks and trigger the taint analysis that should populate the `in` and `out` sets for each node of the CFG.\n",
    "Print the out set of each node."
   ]
  },
  {
   "cell_type": "code",
   "execution_count": null,
   "id": "c688d26226ad1bbc",
   "metadata": {
    "collapsed": false
   },
   "outputs": [],
   "source": [
    "sources = set()\n",
    "sources.add(\"get_sensitive_data\")\n",
    "sinks = set()\n",
    "sinks.add(\"leak_sensitive_data\")\n",
    "ta = TaintAnalysis(cfg, sources, sinks)"
   ]
  },
  {
   "cell_type": "markdown",
   "id": "67cc3c67824fa16f",
   "metadata": {
    "collapsed": false
   },
   "source": [
    "&#128161; Perfect, you can now follow taints across a program, but you did not yet answer the question: is there a leak in the program?\n",
    "Obviously there is one, but your program does not yet answer this question, how would you implement it?"
   ]
  },
  {
   "cell_type": "markdown",
   "id": "d15ef3fcd8cb770f",
   "metadata": {
    "collapsed": false
   },
   "source": []
  },
  {
   "cell_type": "markdown",
   "id": "b7cc34072ba18a79",
   "metadata": {
    "collapsed": false
   },
   "source": [
    "&#128161; In the following cell, implement a small algorithm to check if there is a leak in the program."
   ]
  },
  {
   "cell_type": "code",
   "execution_count": null,
   "id": "79e25cadc1c56626",
   "metadata": {
    "collapsed": false
   },
   "outputs": [],
   "source": []
  },
  {
   "cell_type": "markdown",
   "id": "202f9b910e9e1673",
   "metadata": {
    "collapsed": false
   },
   "source": [
    "## Let us make the code more complicated"
   ]
  },
  {
   "cell_type": "markdown",
   "id": "30f606d529b900cb",
   "metadata": {
    "collapsed": false
   },
   "source": [
    "Python code\n",
    "\n",
    "&#128161; The new code on which you will apply your analyses"
   ]
  },
  {
   "cell_type": "code",
   "execution_count": null,
   "id": "4e20fdfd3970ecab",
   "metadata": {
    "collapsed": false
   },
   "outputs": [],
   "source": [
    "code = \"\"\"\n",
    "\n",
    "def get_sensitive_data():\n",
    "    return \"sensitive\"\n",
    "\n",
    "def leak_sensitive_data(data):\n",
    "    print(data)\n",
    "\n",
    "condition = input()\n",
    "\n",
    "a = get_sensitive_data()\n",
    "\n",
    "if condition:\n",
    "    b = 1\n",
    "else:\n",
    "    b = a\n",
    "\n",
    "leak_sensitive_data(b)\n",
    "\"\"\""
   ]
  },
  {
   "cell_type": "markdown",
   "id": "4f914c83e0d15d24",
   "metadata": {
    "collapsed": false
   },
   "source": [
    "&#128161; In the following cell, you will parse the code, build the cfg, run the taint analysis on the new code, and check if there is a leak."
   ]
  },
  {
   "cell_type": "code",
   "execution_count": null,
   "id": "f7373e5b98c8b87f",
   "metadata": {
    "collapsed": false
   },
   "outputs": [],
   "source": []
  },
  {
   "cell_type": "markdown",
   "id": "4a6688d88ebfaf33",
   "metadata": {
    "collapsed": false
   },
   "source": [
    "&#10067; Is this output expected?\n",
    "Should there be a leak?\n",
    "Should the static analysis return a leak here?"
   ]
  },
  {
   "cell_type": "markdown",
   "id": "870084ce02d154b0",
   "metadata": {
    "collapsed": false
   },
   "source": [
    "&#128161; So far, our list of sources was simple: only one method.\n",
    "\n",
    "But what if there are more function? How would you know what method was the source of a leak?\n",
    "\n",
    "For instance, if the list of sources contain the following:\n",
    "`sources = [\"get_username\", \"get_password\"]` and we want to know whether the username or the password has been leaked, how to do that?\n",
    "\n",
    "Change the implementation of your taint analysis and the leak check to output this information."
   ]
  },
  {
   "cell_type": "code",
   "execution_count": null,
   "id": "23960265f7eaa1dc",
   "metadata": {
    "collapsed": false
   },
   "outputs": [],
   "source": [
    "class TaintAnalysis(DataFlowAnalysis, ABC):\n",
    "    \n",
    "    def __init__(self, cfg, sources, sinks):\n",
    "        super().__init__(cfg)\n",
    "        self.sources = sources\n",
    "        self.sinks = sinks"
   ]
  },
  {
   "cell_type": "code",
   "execution_count": null,
   "id": "a2abba135ef4462d",
   "metadata": {
    "collapsed": false
   },
   "outputs": [],
   "source": []
  },
  {
   "cell_type": "markdown",
   "id": "b847f392e176652",
   "metadata": {
    "collapsed": false
   },
   "source": [
    "Python code\n",
    "\n",
    "&#128161; The new code on which you will apply your analyses"
   ]
  },
  {
   "cell_type": "code",
   "execution_count": null,
   "id": "ec9f81f524871aea",
   "metadata": {
    "collapsed": false
   },
   "outputs": [],
   "source": [
    "code = \"\"\"\n",
    "\n",
    "condition = input()\n",
    "\n",
    "a = get_password()\n",
    "\n",
    "if condition:\n",
    "    b = 1\n",
    "else:\n",
    "    b = a\n",
    "\n",
    "leak_sensitive_data(b)\n",
    "\"\"\""
   ]
  },
  {
   "cell_type": "markdown",
   "id": "d14e81173992a83a",
   "metadata": {
    "collapsed": false
   },
   "source": [
    "&#128161; Now run the analysis and check if there is a leak."
   ]
  },
  {
   "cell_type": "code",
   "execution_count": null,
   "id": "dbe08900cd3e0057",
   "metadata": {
    "collapsed": false
   },
   "outputs": [],
   "source": []
  },
  {
   "cell_type": "markdown",
   "id": "678ecc3a13e97682",
   "metadata": {
    "collapsed": false
   },
   "source": [
    "&#10067; How would you check for an SQL injection with this technique? "
   ]
  },
  {
   "cell_type": "markdown",
   "id": "a77f4256e79afc37",
   "metadata": {
    "collapsed": false
   },
   "source": [
    "&#128161; Now let us redo our taint analysis on the following piece of code:"
   ]
  },
  {
   "cell_type": "code",
   "execution_count": null,
   "id": "49ef37057e0adfe5",
   "metadata": {
    "collapsed": false
   },
   "outputs": [],
   "source": [
    "code = \"\"\"\n",
    "\n",
    "def bridge(data):\n",
    "    leak_sensitive_data(data)\n",
    "\n",
    "a = get_password()\n",
    "bridge(a)\n",
    "\"\"\""
   ]
  },
  {
   "cell_type": "code",
   "execution_count": null,
   "id": "b4afee26da397070",
   "metadata": {
    "collapsed": false
   },
   "outputs": [],
   "source": []
  },
  {
   "cell_type": "markdown",
   "id": "7553a678bf51245d",
   "metadata": {
    "collapsed": false
   },
   "source": [
    "&#10067; Does your analysis return a leak?\n",
    "\n",
    "We will see why in the next lab."
   ]
  }
 ],
 "metadata": {
  "kernelspec": {
   "display_name": "Python 3 (ipykernel)",
   "language": "python",
   "name": "python3"
  },
  "language_info": {
   "codemirror_mode": {
    "name": "ipython",
    "version": 3
   },
   "file_extension": ".py",
   "mimetype": "text/x-python",
   "name": "python",
   "nbconvert_exporter": "python",
   "pygments_lexer": "ipython3",
   "version": "3.9.6"
  }
 },
 "nbformat": 4,
 "nbformat_minor": 5
}
